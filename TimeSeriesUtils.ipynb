{
  "nbformat": 4,
  "nbformat_minor": 0,
  "metadata": {
    "colab": {
      "name": "TimeSeriesUtils.ipynb",
      "version": "0.3.2",
      "provenance": [],
      "include_colab_link": true
    },
    "kernelspec": {
      "name": "python3",
      "display_name": "Python 3"
    },
    "accelerator": "GPU"
  },
  "cells": [
    {
      "cell_type": "markdown",
      "metadata": {
        "id": "view-in-github",
        "colab_type": "text"
      },
      "source": [
        "<a href=\"https://colab.research.google.com/github/chenx26/PracticalDLwithTF/blob/master/TimeSeriesUtils.ipynb\" target=\"_parent\"><img src=\"https://colab.research.google.com/assets/colab-badge.svg\" alt=\"Open In Colab\"/></a>"
      ]
    },
    {
      "cell_type": "code",
      "metadata": {
        "id": "8eda6ENKFdlL",
        "colab_type": "code",
        "colab": {}
      },
      "source": [
        "import numpy as np\n",
        "import matplotlib.pyplot as plt\n",
        "import tensorflow as tf\n",
        "from tensorflow import keras"
      ],
      "execution_count": 0,
      "outputs": []
    },
    {
      "cell_type": "code",
      "metadata": {
        "id": "RGimoagkFup3",
        "colab_type": "code",
        "colab": {}
      },
      "source": [
        "def generate_trend(time, slope=0):\n",
        "    return time * slope"
      ],
      "execution_count": 0,
      "outputs": []
    },
    {
      "cell_type": "code",
      "metadata": {
        "id": "5wiub7pOFB5F",
        "colab_type": "code",
        "colab": {}
      },
      "source": [
        "def plot_ts(time, series, format='-', start=0, end=None, label=None):\n",
        "    plt.plot(time[start:end], series[start:end], format, label=label)\n",
        "    plt.xlabel('Time')\n",
        "    plt.ylabel('Value')\n",
        "    if label is not None:\n",
        "        plt.legend(fontsize=14)\n",
        "    plt.grid(True)\n",
        "    "
      ],
      "execution_count": 0,
      "outputs": []
    },
    {
      "cell_type": "code",
      "metadata": {
        "id": "HDY1zeIZHcRq",
        "colab_type": "code",
        "colab": {}
      },
      "source": [
        "def generate_sin_seasonal(time, period, magnitude):\n",
        "    return np.sin(2 * np.pi / period * time) * magnitude"
      ],
      "execution_count": 0,
      "outputs": []
    },
    {
      "cell_type": "code",
      "metadata": {
        "id": "iI6M0PZbOJTD",
        "colab_type": "code",
        "colab": {}
      },
      "source": [
        "def generate_noise(time, magnitude, seed=None):\n",
        "    rnd = np.random.RandomState(seed)\n",
        "    return rnd.randn(len(time)) * magnitude"
      ],
      "execution_count": 0,
      "outputs": []
    },
    {
      "cell_type": "code",
      "metadata": {
        "id": "yuxzcUkLHEk5",
        "colab_type": "code",
        "colab": {
          "base_uri": "https://localhost:8080/",
          "height": 283
        },
        "outputId": "6d07b40d-60d3-4f1f-8c5d-60471a627591"
      },
      "source": [
        "this_time = np.arange(20)\n",
        "trend_slope = 0.2\n",
        "seasonal_period = 2\n",
        "seasonal_mag = 3\n",
        "noise_mag = 1\n",
        "noise_seed = 1\n",
        "y = generate_trend(this_time, slope=trend_slope) + generate_sin_seasonal(this_time, seasonal_period, seasonal_mag) + generate_noise(this_time, noise_mag, noise_seed)\n",
        "plot_ts(np.arange(len(y)), y, label='trend only time series')"
      ],
      "execution_count": 27,
      "outputs": [
        {
          "output_type": "display_data",
          "data": {
            "image/png": "[encoded data removed]",
            "text/plain": [
              "<Figure size 432x288 with 1 Axes>"
            ]
          },
          "metadata": {
            "tags": []
          }
        }
      ]
    },
    {
      "cell_type": "code",
      "metadata": {
        "id": "AjY-Gc01LNQ_",
        "colab_type": "code",
        "colab": {}
      },
      "source": [
        ""
      ],
      "execution_count": 0,
      "outputs": []
    }
  ]
}